{
 "cells": [
  {
   "cell_type": "markdown",
   "metadata": {},
   "source": [
    "# Flopy example 1\n",
    "building basic modflow6 model from scratch using flopy, constant boundaries & pump"
   ]
  },
  {
   "cell_type": "code",
   "execution_count": 1,
   "metadata": {},
   "outputs": [
    {
     "name": "stdout",
     "output_type": "stream",
     "text": [
      "flopy is installed in C:\\thomas\\Anaconda3\\lib\\site-packages\\flopy\n"
     ]
    }
   ],
   "source": [
    "import flopy\n",
    "import numpy as np"
   ]
  },
  {
   "cell_type": "code",
   "execution_count": 2,
   "metadata": {},
   "outputs": [],
   "source": [
    "# set up model\n",
    "modelname = 'ex1'\n",
    "sim = flopy.mf6.MFSimulation(sim_name='ex1', version='mf6', exe_name='mf6', sim_ws='sim/ex1')\n",
    "mf = flopy.mf6.ModflowGwf(sim, modelname=modelname)\n",
    "\n",
    "# create discretization object, time, 1 steady state period of 1 day\n",
    "tdis = flopy.mf6.ModflowTdis(sim, time_units='days', perioddata=[(1000.0,10,1.0)]) # periode len, period steps, period multiplier"
   ]
  },
  {
   "cell_type": "code",
   "execution_count": 3,
   "metadata": {},
   "outputs": [],
   "source": [
    "# model domain & grid definition\n",
    "Lx, Ly = 1000., 1000. # aquifer length in x, y [meters]\n",
    "ztop, zbot = 0., -50. # aquifer top/bottom elevation\n",
    "nlay, nrow, ncol = 1, 50, 50 # # of layer, rows, columns\n",
    "delr, delc = Lx/ncol, Ly/nrow # spacing along rows/columns\n",
    "delv = (ztop - zbot) / nlay # spacing along depth\n",
    "botm = np.linspace(ztop, zbot, nlay+1) # bottom elevation\n",
    "\n",
    "# create discretization object, spatial\n",
    "dis = flopy.mf6.ModflowGwfdis(mf, nlay=nlay, nrow=nrow, ncol=ncol, delr=delr, delc=delc, top=ztop, botm=botm[1:], length_units='METERS')"
   ]
  },
  {
   "cell_type": "code",
   "execution_count": 4,
   "metadata": {},
   "outputs": [],
   "source": [
    "# define initial heads for model to 20\n",
    "ic = flopy.mf6.ModflowGwfic(mf, strt=1)\n",
    "\n",
    "# set constant head, first & last column have constant head of 20 the 'river'\n",
    "heads = [[(0, row, 0), 10] for row in range(nrow)] # set constant head of 10 at first column\n",
    "heads.extend([[(0, row, ncol-1), 1] for row in range(nrow)]) # set constant head of 1 at last column \n",
    "chd = flopy.mf6.ModflowGwfchd(mf, stress_period_data=heads)"
   ]
  },
  {
   "cell_type": "code",
   "execution_count": 5,
   "metadata": {},
   "outputs": [],
   "source": [
    "# define hydraulic properties\n",
    "npf = flopy.mf6.ModflowGwfnpf(mf, save_flows=True, icelltype=1, k=10., k33=10., save_specific_discharge=True) # hydraulic conductivity horizontal (k) / vertical (k33)"
   ]
  },
  {
   "cell_type": "code",
   "execution_count": 6,
   "metadata": {},
   "outputs": [],
   "source": [
    "# add well\n",
    "pumping_rate = -1000. # m3/day\n",
    "wrow = int(ncol/2 - 1) # middle row\n",
    "wcol = int(nrow/2 - 1) # middle column\n",
    "spd = [[(0, wrow, wcol), pumping_rate]] # in first layer, 0-layer\n",
    "wel = flopy.mf6.ModflowGwfwel(mf, stress_period_data=spd)"
   ]
  },
  {
   "cell_type": "code",
   "execution_count": 7,
   "metadata": {},
   "outputs": [],
   "source": [
    "# output control, use defaults\n",
    "saverecord = [('HEAD', 'ALL'), \n",
    "              ('BUDGET', 'ALL')]\n",
    "printrecord = [('HEAD', 'LAST')]\n",
    "headfile = ['{}.hds'.format(modelname)]\n",
    "budgetfile = ['{}.cbc'.format(modelname)]\n",
    "oc = flopy.mf6.ModflowGwfoc(mf, saverecord=saverecord, printrecord=printrecord, head_filerecord=headfile, budget_filerecord=budgetfile)"
   ]
  },
  {
   "cell_type": "code",
   "execution_count": 8,
   "metadata": {},
   "outputs": [],
   "source": [
    "# create the flopy iterative model solver (ims) package object\n",
    "ims = flopy.mf6.modflow.mfims.ModflowIms(sim)"
   ]
  },
  {
   "cell_type": "code",
   "execution_count": 9,
   "metadata": {},
   "outputs": [
    {
     "name": "stdout",
     "output_type": "stream",
     "text": [
      "writing simulation...\n",
      "  writing simulation name file...\n",
      "  writing simulation tdis package...\n",
      "  writing ims package ims_-1...\n",
      "  writing model ex1...\n",
      "    writing model name file...\n",
      "    writing package dis...\n",
      "    writing package ic...\n",
      "    writing package chd_0...\n",
      "INFORMATION: maxbound in ('gwf6', 'chd', 'dimensions') changed to 100 based on size of stress_period_data\n",
      "    writing package npf...\n",
      "    writing package wel_0...\n",
      "INFORMATION: maxbound in ('gwf6', 'wel', 'dimensions') changed to 1 based on size of stress_period_data\n",
      "    writing package oc...\n",
      "FloPy is using the following  executable to run the model: C:\\thomas\\modflow\\mf6.1.0\\bin\\mf6.EXE\n",
      "                                   MODFLOW 6\n",
      "                U.S. GEOLOGICAL SURVEY MODULAR HYDROLOGIC MODEL\n",
      "                            VERSION 6.1.0 12/12/2019\n",
      "\n",
      "   MODFLOW 6 compiled Dec 12 2019 13:30:12 with IFORT compiler (ver. 19.0.5)\n",
      "\n",
      "This software has been approved for release by the U.S. Geological \n",
      "Survey (USGS). Although the software has been subjected to rigorous \n",
      "review, the USGS reserves the right to update the software as needed \n",
      "pursuant to further analysis and review. No warranty, expressed or \n",
      "implied, is made by the USGS or the U.S. Government as to the \n",
      "functionality of the software and related material nor shall the \n",
      "fact of release constitute any such warranty. Furthermore, the \n",
      "software is released on condition that neither the USGS nor the U.S. \n",
      "Government shall be held liable for any damages resulting from its \n",
      "authorized or unauthorized use. Also refer to the USGS Water \n",
      "Resources Software User Rights Notice for complete use, copyright, \n",
      "and distribution information.\n",
      "\n",
      " Run start date and time (yyyy/mm/dd hh:mm:ss): 2020/02/18 17:54:39\n",
      "\n",
      " Writing simulation list file: mfsim.lst\n",
      " Using Simulation name file: mfsim.nam\n",
      " Solving:  Stress period:     1    Time step:     1\n",
      " Solving:  Stress period:     1    Time step:     2\n",
      " Solving:  Stress period:     1    Time step:     3\n",
      " Solving:  Stress period:     1    Time step:     4\n",
      " Solving:  Stress period:     1    Time step:     5\n",
      " Solving:  Stress period:     1    Time step:     6\n",
      " Solving:  Stress period:     1    Time step:     7\n",
      " Solving:  Stress period:     1    Time step:     8\n",
      " Solving:  Stress period:     1    Time step:     9\n",
      " Solving:  Stress period:     1    Time step:    10\n",
      " Run end date and time (yyyy/mm/dd hh:mm:ss): 2020/02/18 17:54:40\n",
      " Elapsed run time:  0.192 Seconds\n",
      "\n",
      " Normal termination of simulation.\n"
     ]
    },
    {
     "data": {
      "text/plain": [
       "(True, [])"
      ]
     },
     "execution_count": 9,
     "metadata": {},
     "output_type": "execute_result"
    }
   ],
   "source": [
    "# write & run simulation\n",
    "sim.write_simulation()\n",
    "sim.run_simulation()"
   ]
  },
  {
   "cell_type": "code",
   "execution_count": 10,
   "metadata": {},
   "outputs": [
    {
     "name": "stdout",
     "output_type": "stream",
     "text": [
      "('ex1', 'CBC', 'FLOW-JA-FACE')\n",
      "('ex1', 'CBC', 'DATA-SPDIS')\n",
      "('ex1', 'HDS', 'HEAD')\n"
     ]
    }
   ],
   "source": [
    "keys = sim.simulation_data.mfdata.output_keys()"
   ]
  },
  {
   "cell_type": "code",
   "execution_count": 11,
   "metadata": {},
   "outputs": [
    {
     "data": {
      "image/png": "[encoded data removed]",
      "text/plain": [
       "<Figure size 720x720 with 2 Axes>"
      ]
     },
     "metadata": {
      "needs_background": "light"
     },
     "output_type": "display_data"
    }
   ],
   "source": [
    "import matplotlib.pyplot as plt\n",
    "import flopy.utils.binaryfile as bf\n",
    "\n",
    "fig = plt.figure(figsize=(10,10))\n",
    "ax = fig.add_subplot(1,1,1,aspect='equal')\n",
    "\n",
    "# get head data\n",
    "head = sim.simulation_data.mfdata['ex1', 'HDS', 'HEAD']\n",
    "head = head[-1]\n",
    "\n",
    "modelmap = flopy.plot.PlotMapView(model=mf, layer=0)\n",
    "linecollection = modelmap.plot_grid()\n",
    "cs = modelmap.plot_array(head, cmap=plt.get_cmap('jet', 18))\n",
    "\n",
    "plt.colorbar(cs, shrink=0.5)\n",
    "plt.show()"
   ]
  },
  {
   "cell_type": "code",
   "execution_count": null,
   "metadata": {},
   "outputs": [],
   "source": []
  }
 ],
 "metadata": {
  "file_extension": ".py",
  "kernelspec": {
   "display_name": "Python 3.7.3 64-bit ('base': conda)",
   "language": "python",
   "name": "python37364bitbaseconda9d72d1c2f5f146a69e7220ab180f58db"
  },
  "language_info": {
   "codemirror_mode": {
    "name": "ipython",
    "version": 3
   },
   "file_extension": ".py",
   "mimetype": "text/x-python",
   "name": "python",
   "nbconvert_exporter": "python",
   "pygments_lexer": "ipython3",
   "version": "3.7.3"
  },
  "mimetype": "text/x-python",
  "name": "python",
  "npconvert_exporter": "python",
  "pygments_lexer": "ipython3",
  "version": 3
 },
 "nbformat": 4,
 "nbformat_minor": 2
}
