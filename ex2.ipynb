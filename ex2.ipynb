{
 "cells": [
  {
   "cell_type": "markdown",
   "metadata": {},
   "source": [
    "# Flopy example 2\n",
    "building basic modflow6 model from scratch using flopy, some wells, with unstructured grid creation"
   ]
  },
  {
   "cell_type": "code",
   "execution_count": 1,
   "metadata": {},
   "outputs": [
    {
     "name": "stdout",
     "output_type": "stream",
     "text": [
      "flopy is installed in C:\\thomas\\Anaconda3\\lib\\site-packages\\flopy\n"
     ]
    }
   ],
   "source": [
    "import flopy\n",
    "import numpy as np"
   ]
  },
  {
   "cell_type": "code",
   "execution_count": 2,
   "metadata": {},
   "outputs": [],
   "source": [
    "# set up model\n",
    "modelname = 'ex2'\n",
    "\n",
    "# create simulation with modflow6\n",
    "sim = flopy.mf6.MFSimulation(sim_name='ex2', version='mf6', exe_name='mf6', sim_ws='sim/ex2')\n",
    "# create model in simulation\n",
    "mf = flopy.mf6.ModflowGwf(sim, modelname=modelname)\n",
    "\n",
    "# create the flopy iterative model solver (ims) package object\n",
    "ims = flopy.mf6.modflow.mfims.ModflowIms(sim)\n",
    "\n",
    "# create discretization object, time, 1 steady state period of 1 second, transient period of 1 day (or 86400s)\n",
    "tdis = flopy.mf6.ModflowTdis(sim, time_units='seconds', nper=2, perioddata=[(1.0,10,1.0), (86400.0,24,1.0)]) # period len, period steps, period multiplier"
   ]
  },
  {
   "cell_type": "code",
   "execution_count": 3,
   "metadata": {},
   "outputs": [],
   "source": [
    "# model domain & grid definition\n",
    "Lx, Ly = 1000., 1000. # aquifer length in x, y [meters]\n",
    "ztop = 100.  # aquifer top elevation\n",
    "nlay, nrow, ncol = 2, 20, 20  # of layer, rows, columns\n",
    "botm = [80., 60.] # bottom elevation for each layer\n",
    "delr, delc = Lx/ncol, Ly/nrow # spacing along rows/columns\n",
    "\n",
    "# create discretization object, spatial\n",
    "dis = flopy.mf6.ModflowGwfdis(mf, nlay=nlay, nrow=nrow, ncol=ncol, delr=delr, delc=delc, top=ztop, botm=botm, length_units='METERS')"
   ]
  },
  {
   "cell_type": "code",
   "execution_count": 4,
   "metadata": {},
   "outputs": [],
   "source": [
    "# define hydraulic properties\n",
    "npf = flopy.mf6.ModflowGwfnpf(mf, icelltype=1, save_flows=True, k=[3.5e-4, 7e-5]) # hydraulic conductivity for each layer\n",
    "\n",
    "# define initial heads to 99\n",
    "ic = flopy.mf6.ModflowGwfic(mf, strt=99)\n",
    "\n",
    "# define dynamic hydraulic parameters, the first layer is convertible and the second layer confined\n",
    "sto = flopy.mf6.ModflowGwfsto(mf, save_flows=True, iconvert=[1,0], ss=1e-5, sy=0.15, steady_state={0:True}, transient={1:True}) # ss, specific storage, sy, specific yield"
   ]
  },
  {
   "cell_type": "code",
   "execution_count": 5,
   "metadata": {},
   "outputs": [],
   "source": [
    "# define constant head package\n",
    "stress_period_data = {0: [[[0, row, 0], 95.1] if row < 10 else [[0, row, 19], 99.1]  for row in range(20)]}\n",
    "chd = flopy.mf6.ModflowGwfchd(mf, stress_period_data=stress_period_data)"
   ]
  },
  {
   "cell_type": "code",
   "execution_count": 6,
   "metadata": {},
   "outputs": [],
   "source": [
    "# define the two wells for stress period one & two\n",
    "stress_period_data = {0: [((0,8,8), -0.020, 'First Well'), ((1, 12, 16), -0.025, 'Second Well')], 1: [((0,8,8), -0.050, 'First Well'), ((1,12,16), -0.040, 'Second Well')]}\n",
    "wel = flopy.mf6.ModflowGwfwel(mf, stress_period_data=stress_period_data, boundnames=True, save_flows=True)"
   ]
  },
  {
   "cell_type": "code",
   "execution_count": 7,
   "metadata": {},
   "outputs": [],
   "source": [
    "# setup output control package\n",
    "printrec_tuple_list = [('HEAD', 'ALL'), ('BUDGET', 'ALL')]\n",
    "saverec_dict = {0:[('HEAD', 'ALL'), ('BUDGET', 'ALL')],1:[('HEAD', 'ALL'), ('BUDGET', 'ALL')]}\n",
    "ocPackage = flopy.mf6.ModflowGwfoc(mf,\n",
    "                                    budget_filerecord=[modelname+'.cbc'],\n",
    "                                    head_filerecord=[modelname+'.hds'],\n",
    "                                    saverecord=saverec_dict,\n",
    "                                    printrecord=printrec_tuple_list)"
   ]
  },
  {
   "cell_type": "code",
   "execution_count": 8,
   "metadata": {},
   "outputs": [
    {
     "name": "stdout",
     "output_type": "stream",
     "text": [
      "writing simulation...\n",
      "  writing simulation name file...\n",
      "  writing simulation tdis package...\n",
      "  writing ims package ims_-1...\n",
      "  writing model ex2...\n",
      "    writing model name file...\n",
      "    writing package dis...\n",
      "    writing package npf...\n",
      "    writing package ic...\n",
      "    writing package sto...\n",
      "    writing package chd_0...\n",
      "INFORMATION: maxbound in ('gwf6', 'chd', 'dimensions') changed to 20 based on size of stress_period_data\n",
      "    writing package wel_0...\n",
      "INFORMATION: maxbound in ('gwf6', 'wel', 'dimensions') changed to 2 based on size of stress_period_data\n",
      "    writing package oc...\n",
      "FloPy is using the following  executable to run the model: C:\\thomas\\modflow\\mf6.1.0\\bin\\mf6.EXE\n",
      "                                   MODFLOW 6\n",
      "                U.S. GEOLOGICAL SURVEY MODULAR HYDROLOGIC MODEL\n",
      "                            VERSION 6.1.0 12/12/2019\n",
      "\n",
      "   MODFLOW 6 compiled Dec 12 2019 13:30:12 with IFORT compiler (ver. 19.0.5)\n",
      "\n",
      "This software has been approved for release by the U.S. Geological \n",
      "Survey (USGS). Although the software has been subjected to rigorous \n",
      "review, the USGS reserves the right to update the software as needed \n",
      "pursuant to further analysis and review. No warranty, expressed or \n",
      "implied, is made by the USGS or the U.S. Government as to the \n",
      "functionality of the software and related material nor shall the \n",
      "fact of release constitute any such warranty. Furthermore, the \n",
      "software is released on condition that neither the USGS nor the U.S. \n",
      "Government shall be held liable for any damages resulting from its \n",
      "authorized or unauthorized use. Also refer to the USGS Water \n",
      "Resources Software User Rights Notice for complete use, copyright, \n",
      "and distribution information.\n",
      "\n",
      " Run start date and time (yyyy/mm/dd hh:mm:ss): 2020/02/18 17:53:51\n",
      "\n",
      " Writing simulation list file: mfsim.lst\n",
      " Using Simulation name file: mfsim.nam\n",
      " Solving:  Stress period:     1    Time step:     1\n",
      " Solving:  Stress period:     1    Time step:     2\n",
      " Solving:  Stress period:     1    Time step:     3\n",
      " Solving:  Stress period:     1    Time step:     4\n",
      " Solving:  Stress period:     1    Time step:     5\n",
      " Solving:  Stress period:     1    Time step:     6\n",
      " Solving:  Stress period:     1    Time step:     7\n",
      " Solving:  Stress period:     1    Time step:     8\n",
      " Solving:  Stress period:     1    Time step:     9\n",
      " Solving:  Stress period:     1    Time step:    10\n",
      " Solving:  Stress period:     2    Time step:     1\n",
      " Solving:  Stress period:     2    Time step:     2\n",
      " Solving:  Stress period:     2    Time step:     3\n",
      " Solving:  Stress period:     2    Time step:     4\n",
      " Solving:  Stress period:     2    Time step:     5\n",
      " Solving:  Stress period:     2    Time step:     6\n",
      " Solving:  Stress period:     2    Time step:     7\n",
      " Solving:  Stress period:     2    Time step:     8\n",
      " Solving:  Stress period:     2    Time step:     9\n",
      " Solving:  Stress period:     2    Time step:    10\n",
      " Solving:  Stress period:     2    Time step:    11\n",
      " Solving:  Stress period:     2    Time step:    12\n",
      " Solving:  Stress period:     2    Time step:    13\n",
      " Solving:  Stress period:     2    Time step:    14\n",
      " Solving:  Stress period:     2    Time step:    15\n",
      " Solving:  Stress period:     2    Time step:    16\n",
      " Solving:  Stress period:     2    Time step:    17\n",
      " Solving:  Stress period:     2    Time step:    18\n",
      " Solving:  Stress period:     2    Time step:    19\n",
      " Solving:  Stress period:     2    Time step:    20\n",
      " Solving:  Stress period:     2    Time step:    21\n",
      " Solving:  Stress period:     2    Time step:    22\n",
      " Solving:  Stress period:     2    Time step:    23\n",
      " Solving:  Stress period:     2    Time step:    24\n",
      " Run end date and time (yyyy/mm/dd hh:mm:ss): 2020/02/18 17:53:51\n",
      " Elapsed run time:  0.109 Seconds\n",
      "\n",
      " Normal termination of simulation.\n"
     ]
    },
    {
     "data": {
      "text/plain": [
       "(True, [])"
      ]
     },
     "execution_count": 8,
     "metadata": {},
     "output_type": "execute_result"
    }
   ],
   "source": [
    "# write simulation & run simulation\n",
    "sim.write_simulation()\n",
    "sim.run_simulation()"
   ]
  },
  {
   "cell_type": "code",
   "execution_count": 9,
   "metadata": {},
   "outputs": [
    {
     "name": "stdout",
     "output_type": "stream",
     "text": [
      "('ex2', 'CBC', 'STO-SS')\n",
      "('ex2', 'CBC', 'STO-SY')\n",
      "('ex2', 'CBC', 'FLOW-JA-FACE')\n",
      "('ex2', 'CBC', 'WEL')\n",
      "('ex2', 'HDS', 'HEAD')\n"
     ]
    }
   ],
   "source": [
    "# return the output keys\n",
    "keys = sim.simulation_data.mfdata.output_keys()"
   ]
  },
  {
   "cell_type": "code",
   "execution_count": 10,
   "metadata": {},
   "outputs": [
    {
     "data": {
      "image/png": "[encoded data removed]",
      "text/plain": [
       "<Figure size 720x720 with 2 Axes>"
      ]
     },
     "metadata": {
      "needs_background": "light"
     },
     "output_type": "display_data"
    }
   ],
   "source": [
    "# some plotting\n",
    "import matplotlib.pyplot as plt\n",
    "fig = plt.figure(figsize=(10,10))\n",
    "ax = fig.add_subplot(1,1,1,aspect='equal')\n",
    "# get all head data\n",
    "head = sim.simulation_data.mfdata['ex2', 'HDS', 'HEAD']\n",
    "# get the head data from the end of the model run\n",
    "head_end = head[-1]\n",
    "\n",
    "# plot the head data from the end of the model run\n",
    "modelmap = flopy.plot.PlotMapView(model=mf, layer=0)\n",
    "linecollection = modelmap.plot_grid()\n",
    "cs = modelmap.plot_array(head_end, vmin=92, vmax=99, cmap=plt.get_cmap('jet', 14))\n",
    "plt.colorbar(cs, shrink=0.5);"
   ]
  },
  {
   "cell_type": "code",
   "execution_count": 11,
   "metadata": {},
   "outputs": [],
   "source": [
    "# use gridgen to refine grid around wells\n",
    "from flopy.utils.gridgen import Gridgen\n",
    "import os\n",
    "\n",
    "model_ws = os.path.join('output', 'ex2')\n",
    "g = Gridgen(dis, model_ws=model_ws, exe_name='C:/thomas/modflow/gridgen.1.0.02/bin/gridgen.exe')\n",
    "\n",
    "wells = [[Lx / nrow * 8 + 25, Ly / ncol * 8 + 25], [Lx / nrow * 12 + 25, Ly / ncol * 16 + 25]] # x, y cell locations of wells\n",
    "g.add_refinement_features(wells, 'point', 3, range(nlay))\n",
    "rf0shp = os.path.join(model_ws, 'rf0')"
   ]
  },
  {
   "cell_type": "code",
   "execution_count": 12,
   "metadata": {},
   "outputs": [
    {
     "data": {
      "image/png": "[encoded data removed]",
      "text/plain": [
       "<Figure size 504x504 with 1 Axes>"
      ]
     },
     "metadata": {
      "needs_background": "light"
     },
     "output_type": "display_data"
    }
   ],
   "source": [
    "# plot well locations\n",
    "fig = plt.figure(figsize=(7, 7))\n",
    "ax = fig.add_subplot(1, 1, 1, aspect='equal')\n",
    "mm = flopy.plot.PlotMapView(model=mf)\n",
    "mm.plot_grid()\n",
    "flopy.plot.plot_shapefile(rf0shp, ax=ax, facecolor='red', radius=10);"
   ]
  },
  {
   "cell_type": "code",
   "execution_count": 13,
   "metadata": {},
   "outputs": [],
   "source": [
    "# build grid\n",
    "g.build(verbose=False)\n",
    "g.to_disv6('output/ex2/ex2u.disv6')"
   ]
  },
  {
   "cell_type": "code",
   "execution_count": 14,
   "metadata": {},
   "outputs": [
    {
     "data": {
      "image/png": "[encoded data removed]",
      "text/plain": [
       "<Figure size 504x504 with 1 Axes>"
      ]
     },
     "metadata": {
      "needs_background": "light"
     },
     "output_type": "display_data"
    }
   ],
   "source": [
    "# plot resulting grid\n",
    "fig = plt.figure(figsize=(7, 7))\n",
    "ax = fig.add_subplot(1, 1, 1, aspect='equal')\n",
    "g.plot(ax, linewidth=0.5)\n",
    "flopy.plot.plot_shapefile(rf0shp, ax=ax, facecolor='red', radius=1, alpha=0.2);"
   ]
  },
  {
   "cell_type": "code",
   "execution_count": null,
   "metadata": {},
   "outputs": [],
   "source": [
    "# THIS DOES NOT WORK YET!\n",
    "\n",
    "# set up model\n",
    "modelname = 'ex2u'\n",
    "\n",
    "# create new model in existing simulation\n",
    "mfu = flopy.mf6.ModflowGwf(sim, modelname=modelname)\n",
    "\n",
    "# \n",
    "disu6 = flopy.mf6.ModflowGwfdisu.load(os.path.join('output', 'ex2', 'ex2u.disv6'), mfu)\n",
    "\n",
    "# define hydraulic properties\n",
    "npf = flopy.mf6.ModflowGwfnpf(mfu, icelltype=1, save_flows=True, k=[3.5e-4, 7e-5]) # hydraulic conductivity for each layer\n",
    "\n",
    "# define initial heads to 99\n",
    "ic = flopy.mf6.ModflowGwfic(mfu, strt=99)\n",
    "\n",
    "# define dynamic hydraulic parameters, the first layer is convertible and the second layer confined\n",
    "sto = flopy.mf6.ModflowGwfsto(mfu, save_flows=True, iconvert=[1,0], ss=1e-5, sy=0.15, steady_state={0:True}, transient={1:True}) # ss, specific storage, sy, specific yield\n",
    "\n",
    "# define constant head package\n",
    "stress_period_data = {0: [[[0, row, 0], 95.1] if row < 10 else [[0, row, 19], 99.1]  for row in range(20)]}\n",
    "chd = flopy.mf6.ModflowGwfchd(mfu, stress_period_data=stress_period_data)\n",
    "\n",
    "# define the two wells for stress period one & two\n",
    "stress_period_data = {0: [((0,8,8), -0.020, 'First Well'), ((1, 12, 16), -0.025, 'Second Well')], 1: [((0,8,8), -0.050, 'First Well'), ((1,12,16), -0.040, 'Second Well')]}\n",
    "wel = flopy.mf6.ModflowGwfwel(mfu, stress_period_data=stress_period_data, boundnames=True, save_flows=True)\n",
    "\n",
    "# setup output control package\n",
    "printrec_tuple_list = [('HEAD', 'ALL'), ('BUDGET', 'ALL')]\n",
    "saverec_dict = {0:[('HEAD', 'ALL'), ('BUDGET', 'ALL')],1:[('HEAD', 'ALL'), ('BUDGET', 'ALL')]}\n",
    "ocPackage = flopy.mf6.ModflowGwfoc(mfu,\n",
    "                                    budget_filerecord=[modelname+'.cbc'],\n",
    "                                    head_filerecord=[modelname+'.hds'],\n",
    "                                    saverecord=saverec_dict,\n",
    "                                    printrecord=printrec_tuple_list)\n",
    "\n",
    "# write simulation & run simulation\n",
    "sim.write_simulation()\n",
    "sim.run_simulation()"
   ]
  }
 ],
 "metadata": {
  "file_extension": ".py",
  "kernelspec": {
   "display_name": "Python 3.7.3 64-bit ('base': conda)",
   "language": "python",
   "name": "python37364bitbaseconda9d72d1c2f5f146a69e7220ab180f58db"
  },
  "language_info": {
   "codemirror_mode": {
    "name": "ipython",
    "version": 3
   },
   "file_extension": ".py",
   "mimetype": "text/x-python",
   "name": "python",
   "nbconvert_exporter": "python",
   "pygments_lexer": "ipython3",
   "version": "3.7.3"
  },
  "mimetype": "text/x-python",
  "name": "python",
  "npconvert_exporter": "python",
  "pygments_lexer": "ipython3",
  "version": 3
 },
 "nbformat": 4,
 "nbformat_minor": 2
}
