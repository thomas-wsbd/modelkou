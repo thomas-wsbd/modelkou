{
 "cells": [
  {
   "cell_type": "markdown",
   "metadata": {},
   "source": [
    "# SFR\n",
    "streamflow routing 6 example using created already created grid and shapefile"
   ]
  },
  {
   "cell_type": "code",
   "execution_count": 1,
   "metadata": {},
   "outputs": [
    {
     "name": "stdout",
     "output_type": "stream",
     "text": [
      "flopy is installed in C:\\thomas\\Anaconda3\\lib\\site-packages\\flopy\n"
     ]
    }
   ],
   "source": [
    "import flopy\n",
    "import numpy as np\n",
    "from sfrmaker import Lines, UnstructuredGrid\n",
    "import geopandas as gpd\n",
    "import pandas as pd"
   ]
  },
  {
   "cell_type": "code",
   "execution_count": 3,
   "metadata": {},
   "outputs": [
    {
     "name": "stderr",
     "output_type": "stream",
     "text": [
      "C:\\thomas\\Anaconda3\\lib\\site-packages\\pyproj\\crs.py:422: FutureWarning: '+init=<authority>:<code>' syntax is deprecated. '<authority>:<code>' is the preferred initialization method.\n",
      "  projstring = _prepare_from_string(projparams)\n"
     ]
    },
    {
     "data": {
      "text/plain": [
       "Model grid information\n",
       "unstructured grid\n",
       "nnodes: 8,157\n",
       "model length units: meters\n",
       "crs: +init=epsg:32630 +no_defs\n",
       "bounds: 228000.00, 1113000.00, 578000.00, 1413000.00\n",
       "active area defined by: all cells"
      ]
     },
     "execution_count": 3,
     "metadata": {},
     "output_type": "execute_result"
    }
   ],
   "source": [
    "# initiate new model needed for sfrmaker to work\n",
    "mdl = flopy.modflow.Modflow(model_ws='sim/kou')\n",
    "\n",
    "# read created imod unstructed grid\n",
    "grd_gdf = gpd.read_file('data/kou/kou02qtg.shp')\n",
    "grd_gdf['node'] = grd_gdf['nodenumber']\n",
    "grd_gdf['isfr'] = 1\n",
    "grd = UnstructuredGrid.from_dataframe(grd_gdf, model_units='meters', epsg=32630)\n",
    "\n",
    "# return general grid information\n",
    "grd"
   ]
  },
  {
   "cell_type": "code",
   "execution_count": 4,
   "metadata": {},
   "outputs": [
    {
     "name": "stderr",
     "output_type": "stream",
     "text": [
      "C:\\thomas\\Anaconda3\\lib\\site-packages\\pyproj\\crs.py:422: FutureWarning: '+init=<authority>:<code>' syntax is deprecated. '<authority>:<code>' is the preferred initialization method.\n",
      "  projstring = _prepare_from_string(projparams)\n"
     ]
    }
   ],
   "source": [
    "# load the kou river, added some columns, see below, first one segment id (cannot contain 0), \n",
    "# downstream segment, upstream width of the segment, downstream width of the segment,\n",
    "# upstream elevation of segment (not sure if this is bed level), downstream elevation of segment\n",
    "# bedlevel can also be determined from dem, see somewhere below\n",
    "kou = gpd.read_file('data/kou/Kou_UTM.shp')\n",
    "lns = Lines.from_dataframe(kou, id_column='id', routing_column='down', width1_column='width_st', \n",
    "                           width2_column='width_end', up_elevation_column='height_st', \n",
    "                           dn_elevation_column='height_end', epsg=32630)"
   ]
  },
  {
   "cell_type": "code",
   "execution_count": 5,
   "metadata": {},
   "outputs": [
    {
     "data": {
      "image/png": "[encoded data removed]",
      "text/plain": [
       "<Figure size 1080x864 with 1 Axes>"
      ]
     },
     "metadata": {
      "needs_background": "light"
     },
     "output_type": "display_data"
    }
   ],
   "source": [
    "# plot of grid & river, color is segments of the shapefile\n",
    "ax = grd_gdf.plot(facecolor='none', figsize=(15,12), edgecolor='k')\n",
    "kou.plot(ax=ax, column='OSM_ID');"
   ]
  },
  {
   "cell_type": "code",
   "execution_count": 6,
   "metadata": {},
   "outputs": [
    {
     "name": "stdout",
     "output_type": "stream",
     "text": [
      "\n",
      "SFRmaker version 0.2.1\n",
      "\n",
      "Creating sfr dataset...\n",
      "Model grid information\n",
      "unstructured grid\n",
      "nnodes: 8,157\n",
      "model length units: meters\n",
      "crs: +init=epsg:32630 +no_defs\n",
      "bounds: 228000.00, 1113000.00, 578000.00, 1413000.00\n",
      "active area defined by: all cells\n",
      "\n",
      "\n",
      "Culling hydrography to active area...\n",
      "starting lines: 9\n",
      "remaining lines: 9\n",
      "finished in 0.01s\n",
      "\n",
      "\n",
      "Intersecting 9 flowlines with 8,157 grid cells...\n",
      "Intersecting 9 features...\n",
      "\r",
      "1\r",
      "2\r",
      "3\r",
      "4\r",
      "5\r",
      "6\r",
      "7\r",
      "8"
     ]
    },
    {
     "name": "stderr",
     "output_type": "stream",
     "text": [
      "C:\\thomas\\Anaconda3\\lib\\site-packages\\pyproj\\crs.py:422: FutureWarning: '+init=<authority>:<code>' syntax is deprecated. '<authority>:<code>' is the preferred initialization method.\n",
      "  projstring = _prepare_from_string(projparams)\n",
      "C:\\thomas\\Anaconda3\\lib\\site-packages\\pyproj\\crs.py:422: FutureWarning: '+init=<authority>:<code>' syntax is deprecated. '<authority>:<code>' is the preferred initialization method.\n",
      "  projstring = _prepare_from_string(projparams)\n",
      "C:\\thomas\\Anaconda3\\lib\\site-packages\\pyproj\\crs.py:422: FutureWarning: '+init=<authority>:<code>' syntax is deprecated. '<authority>:<code>' is the preferred initialization method.\n",
      "  projstring = _prepare_from_string(projparams)\n",
      "C:\\thomas\\Anaconda3\\lib\\site-packages\\pyproj\\crs.py:422: FutureWarning: '+init=<authority>:<code>' syntax is deprecated. '<authority>:<code>' is the preferred initialization method.\n",
      "  projstring = _prepare_from_string(projparams)\n",
      "C:\\thomas\\Anaconda3\\lib\\site-packages\\pyproj\\crs.py:422: FutureWarning: '+init=<authority>:<code>' syntax is deprecated. '<authority>:<code>' is the preferred initialization method.\n",
      "  projstring = _prepare_from_string(projparams)\n",
      "C:\\thomas\\Anaconda3\\lib\\site-packages\\pyproj\\crs.py:422: FutureWarning: '+init=<authority>:<code>' syntax is deprecated. '<authority>:<code>' is the preferred initialization method.\n",
      "  projstring = _prepare_from_string(projparams)\n",
      "C:\\thomas\\Anaconda3\\lib\\site-packages\\pyproj\\crs.py:422: FutureWarning: '+init=<authority>:<code>' syntax is deprecated. '<authority>:<code>' is the preferred initialization method.\n",
      "  projstring = _prepare_from_string(projparams)\n"
     ]
    },
    {
     "name": "stdout",
     "output_type": "stream",
     "text": [
      "9\n",
      "finished in 0.22s\n",
      "\n",
      "Setting up reach data... (may take a few minutes for large grids)\n",
      "finished in 0.28s\n",
      "\n",
      "\n",
      "Dropping 11 reaches with length < 15.62 meters...\n",
      "\n",
      "Repairing routing connections...\n",
      "enforcing best segment numbering...\n",
      "\n",
      "Setting up segment data...\n",
      "Model grid information\n",
      "unstructured grid\n",
      "nnodes: 8,157\n",
      "model length units: meters\n",
      "crs: +init=epsg:32630 +no_defs\n",
      "bounds: 228000.00, 1113000.00, 578000.00, 1413000.00\n",
      "active area defined by: all cells\n",
      "\n",
      "\n",
      "Time to create sfr dataset: 0.72s\n",
      "\n"
     ]
    }
   ],
   "source": [
    "# initiate sfr (stream flow routing) dataset, based on the river segments and the grid\n",
    "sfr = lns.to_sfr(grid=grd, model=mdl)"
   ]
  },
  {
   "cell_type": "code",
   "execution_count": 7,
   "metadata": {
    "scrolled": true
   },
   "outputs": [
    {
     "name": "stderr",
     "output_type": "stream",
     "text": [
      "C:\\thomas\\Anaconda3\\lib\\site-packages\\pyproj\\crs.py:422: FutureWarning: '+init=<authority>:<code>' syntax is deprecated. '<authority>:<code>' is the preferred initialization method.\n",
      "  projstring = _prepare_from_string(projparams)\n",
      "C:\\thomas\\Anaconda3\\lib\\site-packages\\pyproj\\crs.py:422: FutureWarning: '+init=<authority>:<code>' syntax is deprecated. '<authority>:<code>' is the preferred initialization method.\n",
      "  projstring = _prepare_from_string(projparams)\n"
     ]
    },
    {
     "name": "stdout",
     "output_type": "stream",
     "text": [
      "running rasterstats.zonal_stats on buffered LineStrings...\n"
     ]
    },
    {
     "ename": "KeyboardInterrupt",
     "evalue": "",
     "output_type": "error",
     "traceback": [
      "\u001b[1;31m---------------------------------------------------------------------------\u001b[0m",
      "\u001b[1;31mKeyboardInterrupt\u001b[0m                         Traceback (most recent call last)",
      "\u001b[1;32m<ipython-input-7-00b5c8ede22c>\u001b[0m in \u001b[0;36m<module>\u001b[1;34m\u001b[0m\n\u001b[0;32m      1\u001b[0m \u001b[1;31m# load the dem (digital elevation model), 90x90 meters & sample elevations for each segment, this takes a while... (~30 minutes)\u001b[0m\u001b[1;33m\u001b[0m\u001b[1;33m\u001b[0m\u001b[1;33m\u001b[0m\u001b[0m\n\u001b[0;32m      2\u001b[0m \u001b[0mdem\u001b[0m \u001b[1;33m=\u001b[0m \u001b[1;34m'data/kou/n10w5_dem_utm.asc'\u001b[0m\u001b[1;33m\u001b[0m\u001b[1;33m\u001b[0m\u001b[0m\n\u001b[1;32m----> 3\u001b[1;33m \u001b[0msfr\u001b[0m\u001b[1;33m.\u001b[0m\u001b[0mset_streambed_top_elevations_from_dem\u001b[0m\u001b[1;33m(\u001b[0m\u001b[0mdem\u001b[0m\u001b[1;33m,\u001b[0m \u001b[0mdem_z_units\u001b[0m\u001b[1;33m=\u001b[0m\u001b[1;34m'meters'\u001b[0m\u001b[1;33m,\u001b[0m \u001b[0mmethod\u001b[0m\u001b[1;33m=\u001b[0m\u001b[1;34m'buffers'\u001b[0m\u001b[1;33m,\u001b[0m \u001b[0msmooth\u001b[0m\u001b[1;33m=\u001b[0m\u001b[1;32mTrue\u001b[0m\u001b[1;33m)\u001b[0m\u001b[1;33m\u001b[0m\u001b[1;33m\u001b[0m\u001b[0m\n\u001b[0m",
      "\u001b[1;32mC:\\thomas\\Anaconda3\\lib\\site-packages\\sfrmaker\\sfrdata.py\u001b[0m in \u001b[0;36mset_streambed_top_elevations_from_dem\u001b[1;34m(self, dem, dem_z_units, method, **kwargs)\u001b[0m\n\u001b[0;32m    873\u001b[0m         \"\"\"\n\u001b[0;32m    874\u001b[0m         sampled_elevs = self.sample_reach_elevations(dem=dem, method=method,\n\u001b[1;32m--> 875\u001b[1;33m                                                      **kwargs)\n\u001b[0m\u001b[0;32m    876\u001b[0m         \u001b[1;32mif\u001b[0m \u001b[0mdem_z_units\u001b[0m \u001b[1;32mis\u001b[0m \u001b[1;32mNone\u001b[0m\u001b[1;33m:\u001b[0m\u001b[1;33m\u001b[0m\u001b[1;33m\u001b[0m\u001b[0m\n\u001b[0;32m    877\u001b[0m             \u001b[0mdem_z_units\u001b[0m \u001b[1;33m=\u001b[0m \u001b[0mself\u001b[0m\u001b[1;33m.\u001b[0m\u001b[0mmodel_length_units\u001b[0m\u001b[1;33m\u001b[0m\u001b[1;33m\u001b[0m\u001b[0m\n",
      "\u001b[1;32mC:\\thomas\\Anaconda3\\lib\\site-packages\\sfrmaker\\sfrdata.py\u001b[0m in \u001b[0;36msample_reach_elevations\u001b[1;34m(self, dem, dem_z_units, method, buffer_distance, statistic, smooth)\u001b[0m\n\u001b[0;32m    831\u001b[0m         results = zonal_stats(features,\n\u001b[0;32m    832\u001b[0m                               \u001b[0mdem\u001b[0m\u001b[1;33m,\u001b[0m\u001b[1;33m\u001b[0m\u001b[1;33m\u001b[0m\u001b[0m\n\u001b[1;32m--> 833\u001b[1;33m                               stats='min')\n\u001b[0m\u001b[0;32m    834\u001b[0m         \u001b[0melevs\u001b[0m \u001b[1;33m=\u001b[0m \u001b[1;33m[\u001b[0m\u001b[0mr\u001b[0m\u001b[1;33m[\u001b[0m\u001b[1;34m'min'\u001b[0m\u001b[1;33m]\u001b[0m \u001b[1;32mfor\u001b[0m \u001b[0mr\u001b[0m \u001b[1;32min\u001b[0m \u001b[0mresults\u001b[0m\u001b[1;33m]\u001b[0m\u001b[1;33m\u001b[0m\u001b[1;33m\u001b[0m\u001b[0m\n\u001b[0;32m    835\u001b[0m         \u001b[0mprint\u001b[0m\u001b[1;33m(\u001b[0m\u001b[1;34m\"finished in {:.2f}s\\n\"\u001b[0m\u001b[1;33m.\u001b[0m\u001b[0mformat\u001b[0m\u001b[1;33m(\u001b[0m\u001b[0mtime\u001b[0m\u001b[1;33m.\u001b[0m\u001b[0mtime\u001b[0m\u001b[1;33m(\u001b[0m\u001b[1;33m)\u001b[0m \u001b[1;33m-\u001b[0m \u001b[0mt0\u001b[0m\u001b[1;33m)\u001b[0m\u001b[1;33m)\u001b[0m\u001b[1;33m\u001b[0m\u001b[1;33m\u001b[0m\u001b[0m\n",
      "\u001b[1;32mC:\\thomas\\Anaconda3\\lib\\site-packages\\rasterstats\\main.py\u001b[0m in \u001b[0;36mzonal_stats\u001b[1;34m(*args, **kwargs)\u001b[0m\n\u001b[0;32m     29\u001b[0m     \u001b[0mThe\u001b[0m \u001b[0monly\u001b[0m \u001b[0mdifference\u001b[0m \u001b[1;32mis\u001b[0m \u001b[0mthat\u001b[0m\u001b[0;31m \u001b[0m\u001b[0;31m`\u001b[0m\u001b[0;31m`\u001b[0m\u001b[0mzonal_stats\u001b[0m\u001b[0;31m`\u001b[0m\u001b[0;31m`\u001b[0m \u001b[0mwill\u001b[0m\u001b[1;33m\u001b[0m\u001b[1;33m\u001b[0m\u001b[0m\n\u001b[0;32m     30\u001b[0m     return a list rather than a generator.\"\"\"\n\u001b[1;32m---> 31\u001b[1;33m     \u001b[1;32mreturn\u001b[0m \u001b[0mlist\u001b[0m\u001b[1;33m(\u001b[0m\u001b[0mgen_zonal_stats\u001b[0m\u001b[1;33m(\u001b[0m\u001b[1;33m*\u001b[0m\u001b[0margs\u001b[0m\u001b[1;33m,\u001b[0m \u001b[1;33m**\u001b[0m\u001b[0mkwargs\u001b[0m\u001b[1;33m)\u001b[0m\u001b[1;33m)\u001b[0m\u001b[1;33m\u001b[0m\u001b[1;33m\u001b[0m\u001b[0m\n\u001b[0m\u001b[0;32m     32\u001b[0m \u001b[1;33m\u001b[0m\u001b[0m\n\u001b[0;32m     33\u001b[0m \u001b[1;33m\u001b[0m\u001b[0m\n",
      "\u001b[1;32mC:\\thomas\\Anaconda3\\lib\\site-packages\\rasterstats\\main.py\u001b[0m in \u001b[0;36mgen_zonal_stats\u001b[1;34m(vectors, raster, layer, band, nodata, affine, stats, all_touched, categorical, category_map, add_stats, zone_func, raster_out, prefix, geojson_out, **kwargs)\u001b[0m\n\u001b[0;32m    154\u001b[0m             \u001b[0mgeom_bounds\u001b[0m \u001b[1;33m=\u001b[0m \u001b[0mtuple\u001b[0m\u001b[1;33m(\u001b[0m\u001b[0mgeom\u001b[0m\u001b[1;33m.\u001b[0m\u001b[0mbounds\u001b[0m\u001b[1;33m)\u001b[0m\u001b[1;33m\u001b[0m\u001b[1;33m\u001b[0m\u001b[0m\n\u001b[0;32m    155\u001b[0m \u001b[1;33m\u001b[0m\u001b[0m\n\u001b[1;32m--> 156\u001b[1;33m             \u001b[0mfsrc\u001b[0m \u001b[1;33m=\u001b[0m \u001b[0mrast\u001b[0m\u001b[1;33m.\u001b[0m\u001b[0mread\u001b[0m\u001b[1;33m(\u001b[0m\u001b[0mbounds\u001b[0m\u001b[1;33m=\u001b[0m\u001b[0mgeom_bounds\u001b[0m\u001b[1;33m)\u001b[0m\u001b[1;33m\u001b[0m\u001b[1;33m\u001b[0m\u001b[0m\n\u001b[0m\u001b[0;32m    157\u001b[0m \u001b[1;33m\u001b[0m\u001b[0m\n\u001b[0;32m    158\u001b[0m             \u001b[1;31m# rasterized geometry\u001b[0m\u001b[1;33m\u001b[0m\u001b[1;33m\u001b[0m\u001b[1;33m\u001b[0m\u001b[0m\n",
      "\u001b[1;32mC:\\thomas\\Anaconda3\\lib\\site-packages\\rasterstats\\io.py\u001b[0m in \u001b[0;36mread\u001b[1;34m(self, bounds, window, masked)\u001b[0m\n\u001b[0;32m    313\u001b[0m \u001b[1;33m\u001b[0m\u001b[0m\n\u001b[0;32m    314\u001b[0m             new_array = self.src.read(\n\u001b[1;32m--> 315\u001b[1;33m                 self.band, window=win, boundless=True, masked=masked)\n\u001b[0m\u001b[0;32m    316\u001b[0m \u001b[1;33m\u001b[0m\u001b[0m\n\u001b[0;32m    317\u001b[0m         \u001b[1;32mreturn\u001b[0m \u001b[0mRaster\u001b[0m\u001b[1;33m(\u001b[0m\u001b[0mnew_array\u001b[0m\u001b[1;33m,\u001b[0m \u001b[0mnew_affine\u001b[0m\u001b[1;33m,\u001b[0m \u001b[0mnodata\u001b[0m\u001b[1;33m)\u001b[0m\u001b[1;33m\u001b[0m\u001b[1;33m\u001b[0m\u001b[0m\n",
      "\u001b[1;32mrasterio\\_io.pyx\u001b[0m in \u001b[0;36mrasterio._io.DatasetReaderBase.read\u001b[1;34m()\u001b[0m\n",
      "\u001b[1;32mrasterio\\_base.pyx\u001b[0m in \u001b[0;36mrasterio._base.DatasetBase.__exit__\u001b[1;34m()\u001b[0m\n",
      "\u001b[1;32mC:\\thomas\\Anaconda3\\lib\\site-packages\\rasterio\\env.py\u001b[0m in \u001b[0;36m__exit__\u001b[1;34m(self, exc_type, exc_val, exc_tb)\u001b[0m\n\u001b[0;32m    274\u001b[0m         \u001b[1;32mreturn\u001b[0m \u001b[0mself\u001b[0m\u001b[1;33m\u001b[0m\u001b[1;33m\u001b[0m\u001b[0m\n\u001b[0;32m    275\u001b[0m \u001b[1;33m\u001b[0m\u001b[0m\n\u001b[1;32m--> 276\u001b[1;33m     \u001b[1;32mdef\u001b[0m \u001b[0m__exit__\u001b[0m\u001b[1;33m(\u001b[0m\u001b[0mself\u001b[0m\u001b[1;33m,\u001b[0m \u001b[0mexc_type\u001b[0m\u001b[1;33m=\u001b[0m\u001b[1;32mNone\u001b[0m\u001b[1;33m,\u001b[0m \u001b[0mexc_val\u001b[0m\u001b[1;33m=\u001b[0m\u001b[1;32mNone\u001b[0m\u001b[1;33m,\u001b[0m \u001b[0mexc_tb\u001b[0m\u001b[1;33m=\u001b[0m\u001b[1;32mNone\u001b[0m\u001b[1;33m)\u001b[0m\u001b[1;33m:\u001b[0m\u001b[1;33m\u001b[0m\u001b[1;33m\u001b[0m\u001b[0m\n\u001b[0m\u001b[0;32m    277\u001b[0m         \u001b[0mlog\u001b[0m\u001b[1;33m.\u001b[0m\u001b[0mdebug\u001b[0m\u001b[1;33m(\u001b[0m\u001b[1;34m\"Exiting env context: %r\"\u001b[0m\u001b[1;33m,\u001b[0m \u001b[0mself\u001b[0m\u001b[1;33m)\u001b[0m\u001b[1;33m\u001b[0m\u001b[1;33m\u001b[0m\u001b[0m\n\u001b[0;32m    278\u001b[0m         \u001b[0mdelenv\u001b[0m\u001b[1;33m(\u001b[0m\u001b[1;33m)\u001b[0m\u001b[1;33m\u001b[0m\u001b[1;33m\u001b[0m\u001b[0m\n",
      "\u001b[1;31mKeyboardInterrupt\u001b[0m: "
     ]
    }
   ],
   "source": [
    "# load the dem (digital elevation model), 90x90 meters & sample elevations for each segment, this takes a while... (~30 minutes)\n",
    "dem = 'data/kou/n10w5_dem_utm.asc'\n",
    "sfr.set_streambed_top_elevations_from_dem(dem, dem_z_units='meters', method='buffers', smooth=True)"
   ]
  },
  {
   "cell_type": "code",
   "execution_count": 8,
   "metadata": {
    "scrolled": false
   },
   "outputs": [
    {
     "name": "stdout",
     "output_type": "stream",
     "text": [
      "WARNING: unit 17 of package SFR already in use\n",
      "****Warning -- two packages of the same type:  <class 'flopy.modflow.mfsfr2.ModflowSfr2'> <class 'flopy.modflow.mfsfr2.ModflowSfr2'>\n",
      "replacing existing Package...\n",
      "passed.\n",
      "\n",
      "Checking for continuity in segment and reach numbering...\n",
      "passed.\n",
      "\n",
      "Checking for increasing segment numbers in downstream direction...\n",
      "passed.\n",
      "\n",
      "Checking for circular routing...\n",
      "passed.\n",
      "\n",
      "No DIS package or SpatialReference object; cannot check reach proximities.\n",
      "\n",
      "Checking for model cells with multiple non-zero SFR conductances...\n",
      "1 model cells with multiple non-zero SFR conductances found.\n",
      "This may lead to circular routing between collocated reaches.\n",
      "Nodes with overlapping conductances:\n",
      "k\ti\tj\tiseg\tireach\trchlen\tstrthick\tstrhc1\n",
      "0\t0\t0\t1\t1\t168.87303161621094\t1.0\t1.0\n",
      "0\t0\t0\t1\t2\t298.3865966796875\t1.0\t1.0\n",
      "0\t0\t0\t1\t3\t170.69644165039062\t1.0\t1.0\n",
      "0\t0\t0\t1\t4\t365.9299621582031\t1.0\t1.0\n",
      "0\t0\t0\t1\t5\t26.219375610351562\t1.0\t1.0\n",
      "0\t0\t0\t1\t6\t398.63037109375\t1.0\t1.0\n",
      "0\t0\t0\t1\t7\t182.2174835205078\t1.0\t1.0\n",
      "0\t0\t0\t1\t8\t182.3929901123047\t1.0\t1.0\n",
      "0\t0\t0\t1\t9\t376.9512634277344\t1.0\t1.0\n",
      "0\t0\t0\t1\t10\t77.32173919677734\t1.0\t1.0\n",
      "0\t0\t0\t1\t11\t305.3932800292969\t1.0\t1.0\n",
      "0\t0\t0\t1\t12\t371.8482360839844\t1.0\t1.0\n",
      "0\t0\t0\t1\t13\t44.73736572265625\t1.0\t1.0\n",
      "0\t0\t0\t1\t14\t309.0101623535156\t1.0\t1.0\n",
      "0\t0\t0\t1\t15\t325.35723876953125\t1.0\t1.0\n",
      "0\t0\t0\t1\t16\t49.18797302246094\t1.0\t1.0\n",
      "0\t0\t0\t1\t17\t323.6373291015625\t1.0\t1.0\n",
      "0\t0\t0\t1\t18\t356.73748779296875\t1.0\t1.0\n",
      "0\t0\t0\t1\t19\t112.70056915283203\t1.0\t1.0\n",
      "0\t0\t0\t1\t20\t256.77508544921875\t1.0\t1.0\n",
      "0\t0\t0\t1\t21\t309.5947570800781\t1.0\t1.0\n",
      "0\t0\t0\t1\t22\t76.29936981201172\t1.0\t1.0\n",
      "0\t0\t0\t1\t23\t436.5308532714844\t1.0\t1.0\n",
      "0\t0\t0\t1\t24\t336.15460205078125\t1.0\t1.0\n",
      "0\t0\t0\t1\t25\t316.03558349609375\t1.0\t1.0\n",
      "0\t0\t0\t1\t26\t318.2334289550781\t1.0\t1.0\n",
      "0\t0\t0\t1\t27\t29.969852447509766\t1.0\t1.0\n",
      "0\t0\t0\t1\t28\t393.5652160644531\t1.0\t1.0\n",
      "0\t0\t0\t1\t29\t336.0664978027344\t1.0\t1.0\n",
      "0\t0\t0\t1\t30\t350.8064270019531\t1.0\t1.0\n",
      "0\t0\t0\t1\t31\t333.2516784667969\t1.0\t1.0\n",
      "0\t0\t0\t1\t32\t154.95700073242188\t1.0\t1.0\n",
      "0\t0\t0\t1\t33\t221.37335205078125\t1.0\t1.0\n",
      "0\t0\t0\t1\t34\t323.62786865234375\t1.0\t1.0\n",
      "0\t0\t0\t1\t35\t208.3387451171875\t1.0\t1.0\n",
      "0\t0\t0\t1\t36\t518.3202514648438\t1.0\t1.0\n",
      "0\t0\t0\t1\t37\t570.354736328125\t1.0\t1.0\n",
      "0\t0\t0\t1\t38\t88.28111267089844\t1.0\t1.0\n",
      "0\t0\t0\t1\t39\t364.4936218261719\t1.0\t1.0\n",
      "0\t0\t0\t1\t40\t76.5311279296875\t1.0\t1.0\n",
      "0\t0\t0\t1\t41\t151.21173095703125\t1.0\t1.0\n",
      "0\t0\t0\t1\t42\t280.81378173828125\t1.0\t1.0\n",
      "0\t0\t0\t1\t43\t151.14312744140625\t1.0\t1.0\n",
      "0\t0\t0\t1\t44\t17.16400909423828\t1.0\t1.0\n",
      "0\t0\t0\t1\t45\t345.8503112792969\t1.0\t1.0\n",
      "0\t0\t0\t1\t46\t281.2923278808594\t1.0\t1.0\n",
      "0\t0\t0\t1\t47\t93.37606048583984\t1.0\t1.0\n",
      "0\t0\t0\t1\t48\t34.609962463378906\t1.0\t1.0\n",
      "0\t0\t0\t1\t49\t202.51097106933594\t1.0\t1.0\n",
      "0\t0\t0\t1\t50\t271.72650146484375\t1.0\t1.0\n",
      "0\t0\t0\t1\t51\t75.10932159423828\t1.0\t1.0\n",
      "0\t0\t0\t1\t52\t67.63705444335938\t1.0\t1.0\n",
      "0\t0\t0\t1\t53\t38.21747589111328\t1.0\t1.0\n",
      "0\t0\t0\t1\t54\t23.729339599609375\t1.0\t1.0\n",
      "0\t0\t0\t1\t55\t357.0703430175781\t1.0\t1.0\n",
      "0\t0\t0\t1\t56\t137.8070831298828\t1.0\t1.0\n",
      "0\t0\t0\t1\t57\t330.0194396972656\t1.0\t1.0\n",
      "0\t0\t0\t1\t58\t340.9856262207031\t1.0\t1.0\n",
      "0\t0\t0\t1\t59\t124.51740264892578\t1.0\t1.0\n",
      "0\t0\t0\t2\t1\t221.6191864013672\t1.0\t1.0\n",
      "0\t0\t0\t2\t2\t45.115962982177734\t1.0\t1.0\n",
      "0\t0\t0\t2\t3\t150.43177795410156\t1.0\t1.0\n",
      "0\t0\t0\t2\t4\t382.7929992675781\t1.0\t1.0\n",
      "0\t0\t0\t2\t5\t118.43083953857422\t1.0\t1.0\n",
      "0\t0\t0\t2\t6\t51.90568542480469\t1.0\t1.0\n",
      "0\t0\t0\t2\t7\t28.714330673217773\t1.0\t1.0\n",
      "0\t0\t0\t2\t8\t68.3085708618164\t1.0\t1.0\n",
      "0\t0\t0\t2\t9\t65.02959442138672\t1.0\t1.0\n",
      "0\t0\t0\t2\t10\t217.35675048828125\t1.0\t1.0\n",
      "0\t0\t0\t2\t11\t325.4658508300781\t1.0\t1.0\n",
      "0\t0\t0\t2\t12\t114.26737976074219\t1.0\t1.0\n",
      "0\t0\t0\t2\t13\t251.4070587158203\t1.0\t1.0\n",
      "0\t0\t0\t2\t14\t383.0970764160156\t1.0\t1.0\n",
      "0\t0\t0\t2\t15\t408.7389221191406\t1.0\t1.0\n",
      "0\t0\t0\t2\t16\t485.0617980957031\t1.0\t1.0\n",
      "0\t0\t0\t2\t17\t445.70574951171875\t1.0\t1.0\n",
      "0\t0\t0\t2\t18\t555.5379638671875\t1.0\t1.0\n",
      "0\t0\t0\t2\t19\t63.22526931762695\t1.0\t1.0\n",
      "0\t0\t0\t2\t20\t65.9792251586914\t1.0\t1.0\n",
      "0\t0\t0\t2\t21\t577.6817016601562\t1.0\t1.0\n",
      "0\t0\t0\t2\t22\t263.30255126953125\t1.0\t1.0\n",
      "0\t0\t0\t2\t23\t176.0760955810547\t1.0\t1.0\n",
      "0\t0\t0\t2\t24\t403.7355651855469\t1.0\t1.0\n",
      "0\t0\t0\t2\t25\t321.05194091796875\t1.0\t1.0\n",
      "0\t0\t0\t2\t26\t264.2627868652344\t1.0\t1.0\n",
      "0\t0\t0\t2\t27\t397.95654296875\t1.0\t1.0\n",
      "0\t0\t0\t2\t28\t237.0898895263672\t1.0\t1.0\n",
      "0\t0\t0\t2\t29\t558.9609375\t1.0\t1.0\n",
      "0\t0\t0\t2\t30\t209.88616943359375\t1.0\t1.0\n",
      "0\t0\t0\t2\t31\t539.7433471679688\t1.0\t1.0\n",
      "0\t0\t0\t2\t32\t260.00701904296875\t1.0\t1.0\n",
      "0\t0\t0\t2\t33\t488.00799560546875\t1.0\t1.0\n",
      "0\t0\t0\t2\t34\t373.9131774902344\t1.0\t1.0\n",
      "0\t0\t0\t2\t35\t376.61663818359375\t1.0\t1.0\n",
      "0\t0\t0\t2\t36\t95.64918518066406\t1.0\t1.0\n",
      "0\t0\t0\t2\t37\t324.8481140136719\t1.0\t1.0\n",
      "0\t0\t0\t2\t38\t351.17388916015625\t1.0\t1.0\n",
      "0\t0\t0\t2\t39\t314.7969665527344\t1.0\t1.0\n",
      "0\t0\t0\t2\t40\t215.30633544921875\t1.0\t1.0\n",
      "0\t0\t0\t2\t41\t149.26112365722656\t1.0\t1.0\n",
      "0\t0\t0\t2\t42\t334.54669189453125\t1.0\t1.0\n",
      "0\t0\t0\t2\t43\t368.9900817871094\t1.0\t1.0\n",
      "0\t0\t0\t2\t44\t233.70742797851562\t1.0\t1.0\n",
      "0\t0\t0\t2\t45\t38.7530632019043\t1.0\t1.0\n",
      "0\t0\t0\t2\t46\t80.19595336914062\t1.0\t1.0\n",
      "0\t0\t0\t2\t47\t44.38459396362305\t1.0\t1.0\n",
      "0\t0\t0\t2\t48\t475.73748779296875\t1.0\t1.0\n",
      "0\t0\t0\t2\t49\t47.412715911865234\t1.0\t1.0\n",
      "0\t0\t0\t2\t50\t364.5455322265625\t1.0\t1.0\n",
      "0\t0\t0\t2\t51\t351.587646484375\t1.0\t1.0\n",
      "0\t0\t0\t2\t52\t370.7301025390625\t1.0\t1.0\n",
      "0\t0\t0\t2\t53\t532.410888671875\t1.0\t1.0\n",
      "0\t0\t0\t2\t54\t20.656673431396484\t1.0\t1.0\n",
      "0\t0\t0\t2\t55\t359.12994384765625\t1.0\t1.0\n",
      "0\t0\t0\t2\t56\t376.3860778808594\t1.0\t1.0\n",
      "0\t0\t0\t2\t57\t110.0853271484375\t1.0\t1.0\n",
      "0\t0\t0\t2\t58\t113.19844818115234\t1.0\t1.0\n",
      "0\t0\t0\t2\t59\t47.272769927978516\t1.0\t1.0\n",
      "0\t0\t0\t2\t60\t183.19097900390625\t1.0\t1.0\n",
      "0\t0\t0\t2\t61\t116.75833892822266\t1.0\t1.0\n",
      "0\t0\t0\t2\t62\t598.9957275390625\t1.0\t1.0\n",
      "0\t0\t0\t2\t63\t375.8487854003906\t1.0\t1.0\n",
      "0\t0\t0\t2\t64\t50.47431945800781\t1.0\t1.0\n",
      "0\t0\t0\t2\t65\t619.4264526367188\t1.0\t1.0\n",
      "0\t0\t0\t2\t66\t245.83218383789062\t1.0\t1.0\n",
      "0\t0\t0\t2\t67\t389.0048828125\t1.0\t1.0\n",
      "0\t0\t0\t2\t68\t70.98314666748047\t1.0\t1.0\n",
      "0\t0\t0\t2\t69\t436.686279296875\t1.0\t1.0\n",
      "0\t0\t0\t2\t70\t402.1601257324219\t1.0\t1.0\n",
      "0\t0\t0\t2\t71\t390.0534973144531\t1.0\t1.0\n",
      "0\t0\t0\t2\t72\t353.182373046875\t1.0\t1.0\n",
      "0\t0\t0\t2\t73\t371.1498107910156\t1.0\t1.0\n",
      "0\t0\t0\t2\t74\t87.84423828125\t1.0\t1.0\n",
      "0\t0\t0\t2\t75\t353.8428039550781\t1.0\t1.0\n",
      "0\t0\t0\t2\t76\t107.65998840332031\t1.0\t1.0\n",
      "0\t0\t0\t2\t77\t378.97686767578125\t1.0\t1.0\n",
      "0\t0\t0\t2\t78\t387.84332275390625\t1.0\t1.0\n",
      "0\t0\t0\t2\t79\t300.1177978515625\t1.0\t1.0\n",
      "0\t0\t0\t2\t80\t118.75554656982422\t1.0\t1.0\n",
      "0\t0\t0\t2\t81\t570.3563842773438\t1.0\t1.0\n",
      "0\t0\t0\t2\t82\t183.0917510986328\t1.0\t1.0\n",
      "0\t0\t0\t2\t83\t224.01705932617188\t1.0\t1.0\n",
      "0\t0\t0\t2\t84\t217.4558563232422\t1.0\t1.0\n",
      "0\t0\t0\t2\t85\t348.9069519042969\t1.0\t1.0\n",
      "0\t0\t0\t2\t86\t128.09542846679688\t1.0\t1.0\n",
      "0\t0\t0\t2\t87\t207.9299774169922\t1.0\t1.0\n",
      "0\t0\t0\t2\t88\t336.025390625\t1.0\t1.0\n",
      "0\t0\t0\t2\t89\t273.88427734375\t1.0\t1.0\n",
      "0\t0\t0\t2\t90\t120.70723724365234\t1.0\t1.0\n",
      "0\t0\t0\t2\t91\t255.848876953125\t1.0\t1.0\n",
      "0\t0\t0\t2\t92\t348.05035400390625\t1.0\t1.0\n",
      "0\t0\t0\t2\t93\t351.1890563964844\t1.0\t1.0\n",
      "0\t0\t0\t2\t94\t323.2983703613281\t1.0\t1.0\n",
      "0\t0\t0\t2\t95\t27.890703201293945\t1.0\t1.0\n",
      "0\t0\t0\t2\t96\t369.15576171875\t1.0\t1.0\n",
      "0\t0\t0\t2\t97\t171.8507080078125\t1.0\t1.0\n",
      "0\t0\t0\t2\t98\t226.18911743164062\t1.0\t1.0\n",
      "0\t0\t0\t2\t99\t278.3538513183594\t1.0\t1.0\n",
      "0\t0\t0\t2\t100\t119.68598937988281\t1.0\t1.0\n",
      "0\t0\t0\t2\t101\t374.76568603515625\t1.0\t1.0\n",
      "0\t0\t0\t2\t102\t170.93923950195312\t1.0\t1.0\n",
      "0\t0\t0\t2\t103\t151.95448303222656\t1.0\t1.0\n",
      "0\t0\t0\t2\t104\t322.8937072753906\t1.0\t1.0\n",
      "0\t0\t0\t2\t105\t322.8937072753906\t1.0\t1.0\n",
      "0\t0\t0\t2\t106\t189.25611877441406\t1.0\t1.0\n",
      "0\t0\t0\t2\t107\t230.38137817382812\t1.0\t1.0\n",
      "0\t0\t0\t2\t108\t218.47918701171875\t1.0\t1.0\n",
      "0\t0\t0\t2\t109\t124.1652603149414\t1.0\t1.0\n",
      "0\t0\t0\t2\t110\t95.97205352783203\t1.0\t1.0\n",
      "0\t0\t0\t2\t111\t63.0970458984375\t1.0\t1.0\n",
      "0\t0\t0\t3\t1\t206.37815856933594\t1.0\t1.0\n",
      "0\t0\t0\t4\t1\t55.76403045654297\t1.0\t1.0\n",
      "0\t0\t0\t4\t2\t332.2287902832031\t1.0\t1.0\n",
      "0\t0\t0\t4\t3\t391.8798522949219\t1.0\t1.0\n",
      "0\t0\t0\t4\t4\t41.57897186279297\t1.0\t1.0\n",
      "0\t0\t0\t5\t1\t25.500911712646484\t1.0\t1.0\n",
      "0\t0\t0\t5\t2\t451.19012451171875\t1.0\t1.0\n",
      "0\t0\t0\t5\t3\t423.61474609375\t1.0\t1.0\n",
      "0\t0\t0\t5\t4\t69.42801666259766\t1.0\t1.0\n",
      "0\t0\t0\t5\t5\t469.3695068359375\t1.0\t1.0\n",
      "0\t0\t0\t5\t6\t40.208702087402344\t1.0\t1.0\n",
      "0\t0\t0\t5\t7\t38.86281967163086\t1.0\t1.0\n",
      "0\t0\t0\t5\t8\t625.3906860351562\t1.0\t1.0\n",
      "0\t0\t0\t5\t9\t444.75604248046875\t1.0\t1.0\n",
      "0\t0\t0\t5\t10\t126.88995361328125\t1.0\t1.0\n",
      "0\t0\t0\t5\t11\t63.82386016845703\t1.0\t1.0\n",
      "0\t0\t0\t5\t12\t47.074302673339844\t1.0\t1.0\n",
      "0\t0\t0\t5\t13\t459.4056396484375\t1.0\t1.0\n",
      "0\t0\t0\t5\t14\t48.78872299194336\t1.0\t1.0\n",
      "0\t0\t0\t5\t15\t517.6528930664062\t1.0\t1.0\n",
      "0\t0\t0\t5\t16\t404.5499572753906\t1.0\t1.0\n",
      "0\t0\t0\t5\t17\t335.278564453125\t1.0\t1.0\n",
      "0\t0\t0\t5\t18\t395.4494934082031\t1.0\t1.0\n",
      "0\t0\t0\t5\t19\t386.94805908203125\t1.0\t1.0\n",
      "0\t0\t0\t5\t20\t453.82049560546875\t1.0\t1.0\n",
      "0\t0\t0\t5\t21\t62.2028923034668\t1.0\t1.0\n",
      "0\t0\t0\t5\t22\t507.70440673828125\t1.0\t1.0\n",
      "0\t0\t0\t5\t23\t46.49678039550781\t1.0\t1.0\n",
      "0\t0\t0\t5\t24\t347.9556884765625\t1.0\t1.0\n",
      "0\t0\t0\t5\t25\t220.72547912597656\t1.0\t1.0\n",
      "0\t0\t0\t5\t26\t126.46965789794922\t1.0\t1.0\n",
      "0\t0\t0\t5\t27\t403.43206787109375\t1.0\t1.0\n",
      "0\t0\t0\t5\t28\t26.898550033569336\t1.0\t1.0\n",
      "0\t0\t0\t6\t1\t387.291259765625\t1.0\t1.0\n",
      "0\t0\t0\t6\t2\t317.2323913574219\t1.0\t1.0\n",
      "0\t0\t0\t6\t3\t321.03643798828125\t1.0\t1.0\n",
      "0\t0\t0\t6\t4\t251.56488037109375\t1.0\t1.0\n",
      "0\t0\t0\t6\t5\t83.28742980957031\t1.0\t1.0\n",
      "0\t0\t0\t6\t6\t312.63812255859375\t1.0\t1.0\n",
      "0\t0\t0\t6\t7\t62.33014678955078\t1.0\t1.0\n",
      "0\t0\t0\t6\t8\t94.79385375976562\t1.0\t1.0\n",
      "0\t0\t0\t6\t9\t63.45566177368164\t1.0\t1.0\n",
      "0\t0\t0\t6\t10\t189.29196166992188\t1.0\t1.0\n",
      "0\t0\t0\t7\t1\t199.89801025390625\t1.0\t1.0\n",
      "0\t0\t0\t7\t2\t357.5482482910156\t1.0\t1.0\n",
      "0\t0\t0\t7\t3\t534.4280395507812\t1.0\t1.0\n",
      "0\t0\t0\t7\t4\t261.3431091308594\t1.0\t1.0\n",
      "0\t0\t0\t7\t5\t106.61662292480469\t1.0\t1.0\n",
      "0\t0\t0\t7\t6\t365.4981384277344\t1.0\t1.0\n",
      "0\t0\t0\t7\t7\t62.958431243896484\t1.0\t1.0\n",
      "0\t0\t0\t8\t1\t460.38653564453125\t1.0\t1.0\n",
      "0\t0\t0\t8\t2\t329.02191162109375\t1.0\t1.0\n",
      "0\t0\t0\t8\t3\t465.1825866699219\t1.0\t1.0\n",
      "0\t0\t0\t8\t4\t363.2685241699219\t1.0\t1.0\n",
      "0\t0\t0\t8\t5\t159.67843627929688\t1.0\t1.0\n",
      "0\t0\t0\t8\t6\t531.2977294921875\t1.0\t1.0\n",
      "0\t0\t0\t8\t7\t346.5354919433594\t1.0\t1.0\n",
      "0\t0\t0\t8\t8\t193.62330627441406\t1.0\t1.0\n",
      "0\t0\t0\t8\t9\t524.3636474609375\t1.0\t1.0\n",
      "0\t0\t0\t8\t10\t118.59464263916016\t1.0\t1.0\n",
      "0\t0\t0\t8\t11\t357.0022277832031\t1.0\t1.0\n",
      "0\t0\t0\t8\t12\t61.34228515625\t1.0\t1.0\n",
      "0\t0\t0\t8\t13\t393.3459167480469\t1.0\t1.0\n",
      "0\t0\t0\t8\t14\t191.46511840820312\t1.0\t1.0\n",
      "0\t0\t0\t8\t15\t71.1395263671875\t1.0\t1.0\n",
      "0\t0\t0\t8\t16\t197.70785522460938\t1.0\t1.0\n",
      "0\t0\t0\t8\t17\t31.190187454223633\t1.0\t1.0\n",
      "0\t0\t0\t8\t18\t537.7866821289062\t1.0\t1.0\n",
      "0\t0\t0\t8\t19\t499.3998107910156\t1.0\t1.0\n",
      "0\t0\t0\t8\t20\t354.9429931640625\t1.0\t1.0\n",
      "0\t0\t0\t8\t21\t132.92483520507812\t1.0\t1.0\n",
      "0\t0\t0\t8\t22\t423.46893310546875\t1.0\t1.0\n",
      "0\t0\t0\t8\t23\t391.9852600097656\t1.0\t1.0\n",
      "0\t0\t0\t8\t24\t44.99521255493164\t1.0\t1.0\n",
      "0\t0\t0\t8\t25\t98.32975769042969\t1.0\t1.0\n",
      "0\t0\t0\t8\t26\t85.97596740722656\t1.0\t1.0\n",
      "0\t0\t0\t8\t27\t16.263723373413086\t1.0\t1.0\n",
      "0\t0\t0\t8\t28\t313.24371337890625\t1.0\t1.0\n",
      "0\t0\t0\t8\t29\t50.156497955322266\t1.0\t1.0\n",
      "0\t0\t0\t8\t30\t52.407371520996094\t1.0\t1.0\n",
      "0\t0\t0\t8\t31\t635.1605834960938\t1.0\t1.0\n",
      "0\t0\t0\t8\t32\t281.02459716796875\t1.0\t1.0\n",
      "0\t0\t0\t8\t33\t65.7098617553711\t1.0\t1.0\n",
      "0\t0\t0\t8\t34\t77.41226959228516\t1.0\t1.0\n",
      "0\t0\t0\t8\t35\t203.9175567626953\t1.0\t1.0\n",
      "0\t0\t0\t8\t36\t233.85581970214844\t1.0\t1.0\n",
      "0\t0\t0\t8\t37\t286.1604919433594\t1.0\t1.0\n",
      "0\t0\t0\t8\t38\t245.92808532714844\t1.0\t1.0\n",
      "0\t0\t0\t8\t39\t340.79449462890625\t1.0\t1.0\n",
      "0\t0\t0\t8\t40\t272.6171875\t1.0\t1.0\n",
      "0\t0\t0\t9\t1\t47.62334442138672\t1.0\t1.0\n",
      "0\t0\t0\t9\t2\t355.23876953125\t1.0\t1.0\n",
      "0\t0\t0\t9\t3\t188.92120361328125\t1.0\t1.0\n",
      "0\t0\t0\t9\t4\t278.4875183105469\t1.0\t1.0\n",
      "0\t0\t0\t9\t5\t546.7791748046875\t1.0\t1.0\n",
      "0\t0\t0\t9\t6\t437.27154541015625\t1.0\t1.0\n",
      "0\t0\t0\t9\t7\t63.9089241027832\t1.0\t1.0\n",
      "0\t0\t0\t9\t8\t472.6386413574219\t1.0\t1.0\n",
      "0\t0\t0\t9\t9\t222.96678161621094\t1.0\t1.0\n",
      "0\t0\t0\t9\t10\t238.9822998046875\t1.0\t1.0\n",
      "0\t0\t0\t9\t11\t408.4471435546875\t1.0\t1.0\n",
      "0\t0\t0\t9\t12\t270.97088623046875\t1.0\t1.0\n",
      "0\t0\t0\t9\t13\t160.05250549316406\t1.0\t1.0\n",
      "0\t0\t0\t9\t14\t192.0375518798828\t1.0\t1.0\n",
      "0\t0\t0\t9\t15\t211.16445922851562\t1.0\t1.0\n",
      "0\t0\t0\t9\t16\t402.9831237792969\t1.0\t1.0\n",
      "0\t0\t0\t9\t17\t397.9136657714844\t1.0\t1.0\n",
      "0\t0\t0\t9\t18\t353.0366516113281\t1.0\t1.0\n",
      "0\t0\t0\t9\t19\t365.2763671875\t1.0\t1.0\n",
      "0\t0\t0\t9\t20\t479.9457702636719\t1.0\t1.0\n",
      "0\t0\t0\t9\t21\t241.8345947265625\t1.0\t1.0\n",
      "0\t0\t0\t9\t22\t200.25741577148438\t1.0\t1.0\n",
      "0\t0\t0\t9\t23\t104.88948059082031\t1.0\t1.0\n",
      "0\t0\t0\t9\t24\t236.25372314453125\t1.0\t1.0\n",
      "0\t0\t0\t9\t25\t340.13568115234375\t1.0\t1.0\n",
      "0\t0\t0\t9\t26\t364.4402160644531\t1.0\t1.0\n",
      "0\t0\t0\t9\t27\t23.32916259765625\t1.0\t1.0\n",
      "0\t0\t0\t9\t28\t480.1507263183594\t1.0\t1.0\n",
      "0\t0\t0\t9\t29\t394.268798828125\t1.0\t1.0\n",
      "0\t0\t0\t9\t30\t65.11431884765625\t1.0\t1.0\n",
      "0\t0\t0\t9\t31\t63.234764099121094\t1.0\t1.0\n",
      "0\t0\t0\t9\t32\t144.6561279296875\t1.0\t1.0\n",
      "0\t0\t0\t9\t33\t405.3034362792969\t1.0\t1.0\n",
      "0\t0\t0\t9\t34\t53.98615264892578\t1.0\t1.0\n",
      "0\t0\t0\t9\t35\t105.4635238647461\t1.0\t1.0\n",
      "0\t0\t0\t9\t36\t342.8516845703125\t1.0\t1.0\n",
      "0\t0\t0\t9\t37\t448.6372985839844\t1.0\t1.0\n",
      "0\t0\t0\t9\t38\t170.28408813476562\t1.0\t1.0\n",
      "0\t0\t0\t9\t39\t337.9986877441406\t1.0\t1.0\n",
      "0\t0\t0\t9\t40\t447.1280517578125\t1.0\t1.0\n",
      "0\t0\t0\t9\t41\t33.918846130371094\t1.0\t1.0\n",
      "0\t0\t0\t9\t42\t268.44464111328125\t1.0\t1.0\n",
      "\n",
      "Checking for streambed tops of less than -10...\n",
      "passed.\n",
      "\n",
      "Checking for streambed tops of greater than 15000...\n",
      "passed.\n",
      "\n",
      "Checking segment_data for downstream rises in streambed elevation...\n",
      "Segment elevup and elevdn not specified for nstrm=-302 and isfropt=1\n",
      "passed.\n",
      "\n",
      "Checking reach_data for downstream rises in streambed elevation...\n",
      "passed.\n",
      "\n",
      "Checking reach_data for inconsistencies between streambed elevations and the model grid...\n",
      "No DIS file supplied; cannot check SFR elevations against model grid.\n",
      "\n",
      "Checking for streambed slopes of less than 0.0001...\n",
      "passed.\n",
      "\n",
      "Checking for streambed slopes of greater than 1.0...\n",
      "passed.\n",
      "\n"
     ]
    },
    {
     "data": {
      "text/plain": [
       "<flopy.modflow.mfsfr2.check at 0x2848016c6a0>"
      ]
     },
     "execution_count": 8,
     "metadata": {},
     "output_type": "execute_result"
    }
   ],
   "source": [
    "# run flopy diagnostics\n",
    "sfr.create_modflow_sfr2(model=mdl)\n",
    "sfr.modflow_sfr2.check()"
   ]
  },
  {
   "cell_type": "code",
   "execution_count": 9,
   "metadata": {},
   "outputs": [
    {
     "name": "stdout",
     "output_type": "stream",
     "text": [
      "WARNING: unit 17 of package SFR already in use\n",
      "****Warning -- two packages of the same type:  <class 'flopy.modflow.mfsfr2.ModflowSfr2'> <class 'flopy.modflow.mfsfr2.ModflowSfr2'>\n",
      "replacing existing Package...\n"
     ]
    }
   ],
   "source": [
    "# write the package\n",
    "sfr.write_package('output/kou/example.sfr')"
   ]
  },
  {
   "cell_type": "code",
   "execution_count": 10,
   "metadata": {},
   "outputs": [
    {
     "name": "stdout",
     "output_type": "stream",
     "text": [
      "writing output/kou/example_cells.shp...\n",
      "writing output/kou/example_outlets.shp...\n",
      "writing output/kou/example_lines.shp...\n",
      "writing output/kou/example_routing.shp...\n"
     ]
    }
   ],
   "source": [
    "sfr.export_cells('output/kou/example_cells.shp')\n",
    "sfr.export_outlets('output/kou/example_outlets.shp')\n",
    "sfr.export_lines('output/kou/example_lines.shp')\n",
    "sfr.export_routing('output/kou/example_routing.shp')"
   ]
  },
  {
   "cell_type": "code",
   "execution_count": null,
   "metadata": {},
   "outputs": [],
   "source": []
  }
 ],
 "metadata": {
  "file_extension": ".py",
  "kernelspec": {
   "display_name": "Python 3.7.3 64-bit ('base': conda)",
   "language": "python",
   "name": "python37364bitbaseconda9d72d1c2f5f146a69e7220ab180f58db"
  },
  "language_info": {
   "codemirror_mode": {
    "name": "ipython",
    "version": 3
   },
   "file_extension": ".py",
   "mimetype": "text/x-python",
   "name": "python",
   "nbconvert_exporter": "python",
   "pygments_lexer": "ipython3",
   "version": "3.7.3"
  },
  "mimetype": "text/x-python",
  "name": "python",
  "npconvert_exporter": "python",
  "pygments_lexer": "ipython3",
  "version": 3
 },
 "nbformat": 4,
 "nbformat_minor": 2
}
